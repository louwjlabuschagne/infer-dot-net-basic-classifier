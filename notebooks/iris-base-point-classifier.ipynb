{
 "cells": [
  {
   "cell_type": "markdown",
   "metadata": {},
   "source": [
    "# Basic Classifier using InferDotNet"
   ]
  },
  {
   "cell_type": "markdown",
   "metadata": {},
   "source": [
    "## Introduction"
   ]
  },
  {
   "cell_type": "markdown",
   "metadata": {},
   "source": [
    "This notebook looks at building a `1-feature` probabilistic classifier - a.k.a. a Bayes point machine. Whilst reading the <a href='https://mbmlbook.com/EmailClassifier_A_model_for_classification.html'>Model Based Machine Learning</a> ebook by <a href=\"https://www.microsoft.com/en-us/research/people/jwinn/?from=http%3A%2F%2Fresearch.microsoft.com%2Fen-us%2Fpeople%2Fjwinn%2F\">John Winn</a> et al. from <a href=\"https://www.microsoft.com/en-us/research/\">Microsoft Reseach</a> I found it very confusing diving right into the model based machine learning approach and was looking for a way to tie MBML with traditional ML - this notebook is the result."
   ]
  },
  {
   "cell_type": "markdown",
   "metadata": {},
   "source": [
    "Although the <a href=\"https://mbmlbook.com/index.html\">MBML book</a> is a brilliant book, the first 3 chapters cover very probabilistic approaches to solving problem - as it should, as that is what the book is all about 😅.\n",
    "\n",
    "However, coming from traditional machine learning I was glad to see that in Chapter 4 they build a binary classifier, albeit in a probabilistic fashion. The MBML book uses <a href=\"https://en.wikipedia.org/wiki/Factor_graph#:~:text=A%20factor%20graph%20is%20a,the%20factorization%20of%20a%20function.&text=Factor%20graphs%20generalize%20constraint%20graphs,where%20all%20factors%20are%20constraints.\">factor graphs</a> across the board - if you're not yet aquited with factor graphs, the TLDR from  <a href=\"https://en.wikipedia.org/wiki/Factor_graph#:~:text=A%20factor%20graph%20is%20a,the%20factorization%20of%20a%20function.&text=Factor%20graphs%20generalize%20constraint%20graphs,where%20all%20factors%20are%20constraints.\">wikipedia</a>:\n",
    "\n",
    "> A factor graph is a bipartite graph representing the factorization of a function. Given a factorization of a function $g$,\n",
    "> $$g(X_1,X_2,\\dots,X_n) = \\prod_{j=1}^m f_j(S_j),$$\n",
    "> where ${\\displaystyle S_{j}\\subseteq \\{X_{1},X_{2},\\dots ,X_{n}\\}}$, the corresponding factor graph ${\\displaystyle G=(X,F,E)}$ consists of variable vertices ${\\displaystyle X=\\{X_{1},X_{2},\\dots ,X_{n}\\}}$, factor vertices ${\\displaystyle F=\\{f_{1},f_{2},\\dots ,f_{m}\\}}$, and edges ${\\displaystyle E}$. The edges depend on the factorization as follows: there is an undirected edge between factor vertex ${\\displaystyle f_{j}}$ and variable vertex ${\\displaystyle X_{k}}$  iff ${\\displaystyle X_{k}\\in S_{j}}$.\n",
    "\n",
    "In other words, factor graphs are a way to factorize functions, and factor graphs as used in MBML specifically where $g(X_1,X_2,\\dots,X_n)$ is a joint distribution or a joint likelihood function, and the factorization depends on the conditional independencies among the variables. These factor graphs can be solved using various algorithms like Belief propagation, also known as sum-product message passing, and a go-to platform to perform these calculations is C#'s dotnet using the Microsoft funded inferDotNet package. "
   ]
  },
  {
   "cell_type": "markdown",
   "metadata": {},
   "source": []
  },
  {
   "cell_type": "markdown",
   "metadata": {},
   "source": [
    "## Imports"
   ]
  },
  {
   "cell_type": "code",
   "execution_count": 21,
   "metadata": {
    "ExecuteTime": {
     "end_time": "2021-01-27T11:42:05.974965Z",
     "start_time": "2021-01-27T11:42:05.971136Z"
    }
   },
   "outputs": [],
   "source": [
    "import pandas as pd\n",
    "import matplotlib.pyplot as plt\n",
    "import seaborn as sns\n",
    "from pathlib import Path\n",
    "from sklearn.preprocessing import MinMaxScaler\n",
    "from scipy import special\n",
    "import numpy as np"
   ]
  },
  {
   "cell_type": "code",
   "execution_count": 22,
   "metadata": {
    "ExecuteTime": {
     "end_time": "2021-01-27T11:42:05.982213Z",
     "start_time": "2021-01-27T11:42:05.977481Z"
    }
   },
   "outputs": [],
   "source": [
    "# Gaussian CDF\n",
    "def cdf(x,mu,sig):\n",
    "    return 0.5*(1+special.erf((x-mu)/(sig*np.sqrt(2))))"
   ]
  },
  {
   "cell_type": "markdown",
   "metadata": {},
   "source": [
    "### Config"
   ]
  },
  {
   "cell_type": "code",
   "execution_count": 23,
   "metadata": {
    "ExecuteTime": {
     "end_time": "2021-01-27T11:42:05.989085Z",
     "start_time": "2021-01-27T11:42:05.985658Z"
    }
   },
   "outputs": [],
   "source": [
    "data_dir = Path('../data')\n",
    "input_dataset = data_dir/'iris.csv'\n",
    "output_dataset = data_dir/'iris-one-feature.csv'\n",
    "model_output = data_dir/'model-output.csv'"
   ]
  },
  {
   "cell_type": "markdown",
   "metadata": {},
   "source": [
    "### Data Acquisition"
   ]
  },
  {
   "cell_type": "code",
   "execution_count": 24,
   "metadata": {
    "ExecuteTime": {
     "end_time": "2021-01-27T11:42:05.999574Z",
     "start_time": "2021-01-27T11:42:05.991425Z"
    }
   },
   "outputs": [],
   "source": [
    "df = pd.read_csv(input_dataset)\n",
    "\n",
    "# We subset the data to only have Setosa and Virginica\n",
    "df_2_class = df[df['class'].\\\n",
    "    isin(['Iris-virginica', 'Iris-setosa'])].copy()"
   ]
  },
  {
   "cell_type": "code",
   "execution_count": 25,
   "metadata": {
    "ExecuteTime": {
     "end_time": "2021-01-27T11:42:06.014158Z",
     "start_time": "2021-01-27T11:42:06.001858Z"
    }
   },
   "outputs": [
    {
     "data": {
      "text/html": [
       "<div>\n",
       "<style scoped>\n",
       "    .dataframe tbody tr th:only-of-type {\n",
       "        vertical-align: middle;\n",
       "    }\n",
       "\n",
       "    .dataframe tbody tr th {\n",
       "        vertical-align: top;\n",
       "    }\n",
       "\n",
       "    .dataframe thead th {\n",
       "        text-align: right;\n",
       "    }\n",
       "</style>\n",
       "<table border=\"1\" class=\"dataframe\">\n",
       "  <thead>\n",
       "    <tr style=\"text-align: right;\">\n",
       "      <th></th>\n",
       "      <th>sepallength</th>\n",
       "      <th>sepalwidth</th>\n",
       "      <th>petallength</th>\n",
       "      <th>petalwidth</th>\n",
       "      <th>class</th>\n",
       "    </tr>\n",
       "  </thead>\n",
       "  <tbody>\n",
       "    <tr>\n",
       "      <th>113</th>\n",
       "      <td>5.7</td>\n",
       "      <td>2.5</td>\n",
       "      <td>5.0</td>\n",
       "      <td>2.0</td>\n",
       "      <td>Iris-virginica</td>\n",
       "    </tr>\n",
       "    <tr>\n",
       "      <th>9</th>\n",
       "      <td>4.9</td>\n",
       "      <td>3.1</td>\n",
       "      <td>1.5</td>\n",
       "      <td>0.1</td>\n",
       "      <td>Iris-setosa</td>\n",
       "    </tr>\n",
       "  </tbody>\n",
       "</table>\n",
       "</div>"
      ],
      "text/plain": [
       "     sepallength  sepalwidth  petallength  petalwidth           class\n",
       "113          5.7         2.5          5.0         2.0  Iris-virginica\n",
       "9            4.9         3.1          1.5         0.1     Iris-setosa"
      ]
     },
     "execution_count": 25,
     "metadata": {},
     "output_type": "execute_result"
    }
   ],
   "source": [
    "df_2_class.sample(2)"
   ]
  },
  {
   "cell_type": "code",
   "execution_count": 26,
   "metadata": {
    "ExecuteTime": {
     "end_time": "2021-01-27T11:42:06.495850Z",
     "start_time": "2021-01-27T11:42:06.016003Z"
    }
   },
   "outputs": [
    {
     "data": {
      "image/png": "[encoded data removed]",
      "text/plain": [
       "<Figure size 817.375x360 with 1 Axes>"
      ]
     },
     "metadata": {
      "needs_background": "light"
     },
     "output_type": "display_data"
    }
   ],
   "source": [
    "f = sns.displot(data=df_2_class,\n",
    "                x='sepallength',\n",
    "                aspect=2,\n",
    "                hue='class')\n",
    "plt.title('Sepal Length Distribution between Setosa and Virginica');"
   ]
  },
  {
   "cell_type": "code",
   "execution_count": 27,
   "metadata": {
    "ExecuteTime": {
     "end_time": "2021-01-27T11:42:06.505238Z",
     "start_time": "2021-01-27T11:42:06.498449Z"
    }
   },
   "outputs": [],
   "source": [
    "df_2_class.loc[df_2_class['class'] == 'Iris-setosa', 'is_setosa'] = 1\n",
    "df_2_class.loc[df_2_class['class'] == 'Iris-virginica', 'is_setosa'] =  0"
   ]
  },
  {
   "cell_type": "code",
   "execution_count": 28,
   "metadata": {
    "ExecuteTime": {
     "end_time": "2021-01-27T11:42:06.514534Z",
     "start_time": "2021-01-27T11:42:06.508979Z"
    }
   },
   "outputs": [],
   "source": [
    "# When scaling this go a bit weird - still need to figure out why\n",
    "from sklearn.preprocessing import StandardScaler\n",
    "# scaler = MinMaxScaler(feature_range=(-1,1))\n",
    "scaler = StandardScaler()\n",
    "df_2_class.sepallength = scaler.fit_transform(df_2_class.sepallength.values.reshape(-1,1)).flatten()"
   ]
  },
  {
   "cell_type": "code",
   "execution_count": 29,
   "metadata": {
    "ExecuteTime": {
     "end_time": "2021-01-27T11:42:06.523718Z",
     "start_time": "2021-01-27T11:42:06.517023Z"
    }
   },
   "outputs": [],
   "source": [
    "df_2_class[['sepallength', 'is_setosa']].\\\n",
    "to_csv(output_dataset,\n",
    "       header=False,\n",
    "       sep='|',\n",
    "       index=False)"
   ]
  },
  {
   "cell_type": "code",
   "execution_count": 30,
   "metadata": {
    "ExecuteTime": {
     "end_time": "2021-01-27T11:42:06.936777Z",
     "start_time": "2021-01-27T11:42:06.525904Z"
    }
   },
   "outputs": [
    {
     "data": {
      "image/png": "[encoded data removed]",
      "text/plain": [
       "<Figure size 817.375x360 with 1 Axes>"
      ]
     },
     "metadata": {
      "needs_background": "light"
     },
     "output_type": "display_data"
    }
   ],
   "source": [
    "f = sns.displot(data=df_2_class,\n",
    "                x='sepallength',\n",
    "                aspect=2,\n",
    "                hue='class')\n",
    "plt.title('Sepal Length Distribution between Setosa and Virginica');"
   ]
  },
  {
   "cell_type": "code",
   "execution_count": 31,
   "metadata": {
    "ExecuteTime": {
     "end_time": "2021-01-27T11:42:06.946592Z",
     "start_time": "2021-01-27T11:42:06.938466Z"
    }
   },
   "outputs": [
    {
     "data": {
      "text/plain": [
       "count    1.000000e+02\n",
       "mean     3.223810e-16\n",
       "std      1.005038e+00\n",
       "min     -1.591571e+00\n",
       "25%     -8.473494e-01\n",
       "50%     -1.031278e-01\n",
       "75%      7.474111e-01\n",
       "max      2.235854e+00\n",
       "Name: sepallength, dtype: float64"
      ]
     },
     "execution_count": 31,
     "metadata": {},
     "output_type": "execute_result"
    }
   ],
   "source": [
    "df_2_class.sepallength.describe()"
   ]
  },
  {
   "cell_type": "markdown",
   "metadata": {},
   "source": [
    "## Run Model"
   ]
  },
  {
   "cell_type": "code",
   "execution_count": 32,
   "metadata": {
    "ExecuteTime": {
     "end_time": "2021-01-27T11:42:06.952795Z",
     "start_time": "2021-01-27T11:42:06.948778Z"
    }
   },
   "outputs": [],
   "source": [
    "cmd = f'dotnet run --project ../model/ ../data/ iris-one-feature.csv'"
   ]
  },
  {
   "cell_type": "code",
   "execution_count": 33,
   "metadata": {
    "ExecuteTime": {
     "end_time": "2021-01-27T11:42:13.822970Z",
     "start_time": "2021-01-27T11:42:06.954852Z"
    }
   },
   "outputs": [
    {
     "name": "stdout",
     "output_type": "stream",
     "text": [
      "\u001b[?1h\u001b=\u001b[?1h\u001b=\u001b[?1h\u001b=\u001b[?1h\u001b=\u001b[?1h\u001b=\u001b[?1h\u001b=Compiling model...done.\n",
      "Iterating: \n",
      ".........|.........|.........|.........|.........| 50\n",
      "Gaussian(-4.304, 0.6735)\n",
      "Gaussian(0.05954, 1.55)\n",
      "\u001b[?1h\u001b="
     ]
    }
   ],
   "source": [
    "!{cmd}"
   ]
  },
  {
   "cell_type": "markdown",
   "metadata": {},
   "source": [
    "## Analyze Results"
   ]
  },
  {
   "cell_type": "code",
   "execution_count": 34,
   "metadata": {
    "ExecuteTime": {
     "end_time": "2021-01-27T11:42:13.841164Z",
     "start_time": "2021-01-27T11:42:13.825851Z"
    }
   },
   "outputs": [
    {
     "data": {
      "text/html": [
       "<div>\n",
       "<style scoped>\n",
       "    .dataframe tbody tr th:only-of-type {\n",
       "        vertical-align: middle;\n",
       "    }\n",
       "\n",
       "    .dataframe tbody tr th {\n",
       "        vertical-align: top;\n",
       "    }\n",
       "\n",
       "    .dataframe thead th {\n",
       "        text-align: right;\n",
       "    }\n",
       "</style>\n",
       "<table border=\"1\" class=\"dataframe\">\n",
       "  <thead>\n",
       "    <tr style=\"text-align: right;\">\n",
       "      <th></th>\n",
       "      <th>variable</th>\n",
       "      <th>mean</th>\n",
       "      <th>variance</th>\n",
       "    </tr>\n",
       "  </thead>\n",
       "  <tbody>\n",
       "    <tr>\n",
       "      <th>0</th>\n",
       "      <td>postWeight</td>\n",
       "      <td>-4.303792</td>\n",
       "      <td>0.673502</td>\n",
       "    </tr>\n",
       "    <tr>\n",
       "      <th>1</th>\n",
       "      <td>postThreshold</td>\n",
       "      <td>0.059541</td>\n",
       "      <td>1.550078</td>\n",
       "    </tr>\n",
       "  </tbody>\n",
       "</table>\n",
       "</div>"
      ],
      "text/plain": [
       "        variable      mean  variance\n",
       "0     postWeight -4.303792  0.673502\n",
       "1  postThreshold  0.059541  1.550078"
      ]
     },
     "execution_count": 34,
     "metadata": {},
     "output_type": "execute_result"
    }
   ],
   "source": [
    "df_results = pd.read_csv(data_dir/'results.csv', sep=';')\n",
    "df_results"
   ]
  },
  {
   "cell_type": "code",
   "execution_count": 35,
   "metadata": {
    "ExecuteTime": {
     "end_time": "2021-01-27T11:42:13.854767Z",
     "start_time": "2021-01-27T11:42:13.843271Z"
    }
   },
   "outputs": [
    {
     "data": {
      "text/plain": [
       "(-4.303792037209788,\n",
       " 0.6735017532659316,\n",
       " 0.05954110420455305,\n",
       " 1.55007823440973,\n",
       " 1.2450213790974554)"
      ]
     },
     "execution_count": 35,
     "metadata": {},
     "output_type": "execute_result"
    }
   ],
   "source": [
    "postWeightMean = df_results[df_results.variable == \"postWeight\"]['mean'].values[0]\n",
    "postWeightVariance = df_results[df_results.variable == \"postWeight\"]['variance'].values[0]\n",
    "postThresholdMean = df_results[df_results.variable == \"postThreshold\"]['mean'].values[0]\n",
    "postThresholdVariance = df_results[df_results.variable == \"postThreshold\"]['variance'].values[0]\n",
    "postThresholdStandardDev = np.sqrt(postThresholdVariance)\n",
    "postWeightMean, postWeightVariance, postThresholdMean, postThresholdVariance, postThresholdStandardDev"
   ]
  },
  {
   "cell_type": "code",
   "execution_count": 36,
   "metadata": {
    "ExecuteTime": {
     "end_time": "2021-01-27T11:42:13.861915Z",
     "start_time": "2021-01-27T11:42:13.856928Z"
    }
   },
   "outputs": [
    {
     "data": {
      "text/plain": [
       "(-3.5602424132002315, -4.303792037209788)"
      ]
     },
     "execution_count": 36,
     "metadata": {},
     "output_type": "execute_result"
    }
   ],
   "source": [
    "sampledWeight = np.random.normal(postWeightMean, np.sqrt(postWeightVariance))\n",
    "sampledWeight, postWeightMean"
   ]
  },
  {
   "cell_type": "code",
   "execution_count": 37,
   "metadata": {
    "ExecuteTime": {
     "end_time": "2021-01-27T11:42:13.868636Z",
     "start_time": "2021-01-27T11:42:13.864263Z"
    }
   },
   "outputs": [],
   "source": [
    "df_2_class['score'] = df_2_class.sepallength * postWeightMean"
   ]
  },
  {
   "cell_type": "code",
   "execution_count": 20,
   "metadata": {
    "ExecuteTime": {
     "end_time": "2021-01-27T11:41:27.129481Z",
     "start_time": "2021-01-27T11:41:26.638388Z"
    }
   },
   "outputs": [
    {
     "data": {
      "image/png": "[encoded data removed]",
      "text/plain": [
       "<Figure size 1080x360 with 1 Axes>"
      ]
     },
     "metadata": {
      "needs_background": "light"
     },
     "output_type": "display_data"
    }
   ],
   "source": [
    "x_min_max = 20\n",
    "x = np.linspace(-1*x_min_max, x_min_max, 1000)\n",
    "fig = plt.figure(figsize=(15,5))\n",
    "\n",
    "for sigma in [postThresholdStandardDev* v for v in np.linspace(0.0001, 3, 4)]:\n",
    "    sig = str(round(sigma, 2))\n",
    "    mean = str(round(postThresholdMean, 2))\n",
    "    label = \"${\\\\mathcal {N}_{thresh}}(\"+mean+\",\"+sig+\")$\"\n",
    "    y = cdf(x, postThresholdMean, sigma)\n",
    "    plt.plot(x, y, label=label)\n",
    "\n",
    "sig = str(round(np.sqrt(postWeightVariance), 2))\n",
    "mean = str(round(postWeightMean, 2))\n",
    "plt.scatter(x=df_2_class.score,\n",
    "            y=df_2_class.is_setosa,\n",
    "            c=df_2_class.is_setosa.map({0:'red', \n",
    "                                        1:'green'}))\n",
    "plt.legend()\n",
    "plt.title(\"Noisy Scores with sampled weight $w=\"+str(round(sampledWeight,2))+\"$\"+\"\"\" from ${\\\\mathcal {N}_{weight}}(\"\"\"+mean+\",\"+sig+\")$\"+\"\"\"\n",
    "Along with the threshold CDFs for various sigma's\"\"\");"
   ]
  },
  {
   "cell_type": "code",
   "execution_count": null,
   "metadata": {},
   "outputs": [],
   "source": []
  },
  {
   "cell_type": "code",
   "execution_count": null,
   "metadata": {},
   "outputs": [],
   "source": []
  }
 ],
 "metadata": {
  "kernelspec": {
   "display_name": "Python 3",
   "language": "python",
   "name": "python3"
  },
  "language_info": {
   "codemirror_mode": {
    "name": "ipython",
    "version": 3
   },
   "file_extension": ".py",
   "mimetype": "text/x-python",
   "name": "python",
   "nbconvert_exporter": "python",
   "pygments_lexer": "ipython3",
   "version": "3.9.0"
  },
  "toc": {
   "base_numbering": 1,
   "nav_menu": {},
   "number_sections": true,
   "sideBar": true,
   "skip_h1_title": true,
   "title_cell": "Table of Contents",
   "title_sidebar": "Contents",
   "toc_cell": false,
   "toc_position": {},
   "toc_section_display": true,
   "toc_window_display": true
  }
 },
 "nbformat": 4,
 "nbformat_minor": 2
}
